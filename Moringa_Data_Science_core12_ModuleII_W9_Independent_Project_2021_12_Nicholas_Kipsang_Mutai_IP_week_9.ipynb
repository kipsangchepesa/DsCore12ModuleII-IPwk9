{
  "nbformat": 4,
  "nbformat_minor": 0,
  "metadata": {
    "colab": {
      "name": "Moringa_Data_Science_core12_ModuleII_W9_Independent_Project_2021_12_Nicholas_Kipsang_Mutai IP week 9.ipynb",
      "provenance": [],
      "collapsed_sections": [],
      "toc_visible": true,
      "authorship_tag": "ABX9TyNjZHixqmF6220f6zRFI2u+",
      "include_colab_link": true
    },
    "kernelspec": {
      "name": "python3",
      "display_name": "Python 3"
    },
    "language_info": {
      "name": "python"
    }
  },
  "cells": [
    {
      "cell_type": "markdown",
      "metadata": {
        "id": "view-in-github",
        "colab_type": "text"
      },
      "source": [
        "<a href=\"https://colab.research.google.com/github/kipsangchepesa/DsCore12ModuleII-IPwk9/blob/main/Moringa_Data_Science_core12_ModuleII_W9_Independent_Project_2021_12_Nicholas_Kipsang_Mutai_IP_week_9.ipynb\" target=\"_parent\"><img src=\"https://colab.research.google.com/assets/colab-badge.svg\" alt=\"Open In Colab\"/></a>"
      ]
    },
    {
      "cell_type": "markdown",
      "source": [
        "#KNN: K-Nearest Neighbors. \n",
        "Here we are going to use Titanic dataset to carryout KNN machine learning "
      ],
      "metadata": {
        "id": "c9BwAKwPQrAo"
      }
    },
    {
      "cell_type": "markdown",
      "source": [
        "#1.) Defining the Question:\n",
        "\n",
        "This week's project requires us to implement a K-nearest neighbor (kNN) classifier on Titanic dataset to predict the chances of survival and death, given several variables such as Gender, Passenger class, Cabin they were in, parch i.e. parent and the child and many more, in the tragic incident that happenned longtime ago and will calculate the resulting metrics:\n"
      ],
      "metadata": {
        "id": "U3Gsekn4REhW"
      }
    },
    {
      "cell_type": "markdown",
      "source": [
        "##Specifying the Question\n",
        "\n",
        "1. Who survived in the titanic accident basing on the dataset?\n",
        "2. Which is the strongest predictor of survival status?\n",
        "3. What are the factors that affected the survival of a passenger?\n",
        "4. Would one survive the titanic disaster given the attributes within the set eg. Age,Passanger class,Fare etc? (What we aim to predict)"
      ],
      "metadata": {
        "id": "Njtxgu7fRpcb"
      }
    },
    {
      "cell_type": "markdown",
      "source": [
        "## Defining the Metric for Sucsess\n",
        "Our success will be determined by our ability to predict the survival status of a passenger with minimal error in classification."
      ],
      "metadata": {
        "id": "RpjoweBrTPjK"
      }
    },
    {
      "cell_type": "markdown",
      "source": [
        "##Understanding the context\n",
        "RMS stands for Royal Mail Ship. The RMS Titanic had two sister ships\n",
        "Olympic launched 20 October 1910, arrived at Jarrow for scrapping 13 October 1935and Britannic launched 26 February 1914, sunk by nine 21 November 1916.\n",
        "\n",
        "There were only enough lifeboats for a third of the people on board there were 20 life boats on board, which would have held a capacity of 1178 people.\n",
        "Meanwhile the capacity of Titanic was 3320 people."
      ],
      "metadata": {
        "id": "TM2k3jPGTjCJ"
      }
    },
    {
      "cell_type": "markdown",
      "source": [
        "##Experimental Design\n",
        "This project will involve review and cleaning of the dataset while performing exploratory data analysis of both the training and testing set. The main objective, is the prediction of survival status of the passengers.\n",
        "I wil do model optimization using different training and testing parameters with other optimization techiques that are fit for the model used.\n",
        "Will do hyperparameter tuning to obtain the best estimatorand finally provide further recomendation on how to improve the classifier into the best model."
      ],
      "metadata": {
        "id": "eMjMW682XW7g"
      }
    },
    {
      "cell_type": "markdown",
      "source": [
        "##Data Relevance\n",
        "The data provided here in is relevant for analysis as it includes passenger information and the survival numbers of the actual titanic dataset. Our predictors are clearly defined and the target variable is clearly provided in the training set.\n",
        "Pclass: refers to passenger class\n",
        "Sbsp: refers to the siblings and spouse count.\n",
        "Parch: refers to the parents and the children count.\n",
        "Embarked implies where the traveler mounted from. ie Southampton(S), Cherbourg(C), and Queenstown(C).\n"
      ],
      "metadata": {
        "id": "8WObhCiyYkBs"
      }
    },
    {
      "cell_type": "markdown",
      "source": [
        "#2.) Reading the Data"
      ],
      "metadata": {
        "id": "SH6HEtW1ZKvT"
      }
    },
    {
      "cell_type": "markdown",
      "source": [
        "##Impoorting Libraries "
      ],
      "metadata": {
        "id": "Ij5qOgaXZUw8"
      }
    },
    {
      "cell_type": "code",
      "source": [
        "# Importing all the necessary libraries for my analysis\n",
        "import pandas as pd\n",
        "import numpy as np\n",
        "import seaborn as sns\n",
        "import matplotlib.pyplot as plt\n",
        "%matplotlib inline\n",
        "# Feature Engineering ,Preprocessing and Modeling\n",
        "from statsmodels.stats.outliers_influence import variance_inflation_factor\n",
        "from sklearn.model_selection import train_test_split,GridSearchCV\n",
        "from sklearn.preprocessing import StandardScaler,LabelEncoder,OneHotEncoder,Normalizer\n",
        "from sklearn.neighbors import KNeighborsClassifier\n",
        "from sklearn.metrics import accuracy_score,confusion_matrix,classification_report\n",
        "# Disable warnings\n",
        "import warnings\n",
        "warnings.filterwarnings(\"ignore\")\n",
        "import pandas.util.testing as tm"
      ],
      "metadata": {
        "id": "cN7SpJIRaPfZ"
      },
      "execution_count": 139,
      "outputs": []
    },
    {
      "cell_type": "code",
      "execution_count": 140,
      "metadata": {
        "id": "Vie3AJ2DZ-Ap"
      },
      "outputs": [],
      "source": [
        "#train dataset\n",
        "url=('https://archive.org/download/train5_202002/train%20%285%29.csv')\n",
        "data=pd.read_csv(url)"
      ]
    },
    {
      "cell_type": "code",
      "source": [
        "#test dataset\n",
        "test=pd.read_csv('https://archive.org/download/test1_202002/test%20%281%29.csv')"
      ],
      "metadata": {
        "id": "LxHqALFQkVeb"
      },
      "execution_count": 141,
      "outputs": []
    },
    {
      "cell_type": "markdown",
      "source": [
        "#3.) Checking the data"
      ],
      "metadata": {
        "id": "TGWi_XOddGFN"
      }
    },
    {
      "cell_type": "code",
      "source": [
        "data.head()"
      ],
      "metadata": {
        "colab": {
          "base_uri": "https://localhost:8080/",
          "height": 432
        },
        "id": "XpVys6ddjaJH",
        "outputId": "be6999fd-060d-46ee-e268-85c52d11bc25"
      },
      "execution_count": 142,
      "outputs": [
        {
          "output_type": "execute_result",
          "data": {
            "text/html": [
              "<div>\n",
              "<style scoped>\n",
              "    .dataframe tbody tr th:only-of-type {\n",
              "        vertical-align: middle;\n",
              "    }\n",
              "\n",
              "    .dataframe tbody tr th {\n",
              "        vertical-align: top;\n",
              "    }\n",
              "\n",
              "    .dataframe thead th {\n",
              "        text-align: right;\n",
              "    }\n",
              "</style>\n",
              "<table border=\"1\" class=\"dataframe\">\n",
              "  <thead>\n",
              "    <tr style=\"text-align: right;\">\n",
              "      <th></th>\n",
              "      <th>PassengerId</th>\n",
              "      <th>Survived</th>\n",
              "      <th>Pclass</th>\n",
              "      <th>Name</th>\n",
              "      <th>Sex</th>\n",
              "      <th>Age</th>\n",
              "      <th>SibSp</th>\n",
              "      <th>Parch</th>\n",
              "      <th>Ticket</th>\n",
              "      <th>Fare</th>\n",
              "      <th>Cabin</th>\n",
              "      <th>Embarked</th>\n",
              "    </tr>\n",
              "  </thead>\n",
              "  <tbody>\n",
              "    <tr>\n",
              "      <th>0</th>\n",
              "      <td>1</td>\n",
              "      <td>0</td>\n",
              "      <td>3</td>\n",
              "      <td>Braund, Mr. Owen Harris</td>\n",
              "      <td>male</td>\n",
              "      <td>22.0</td>\n",
              "      <td>1</td>\n",
              "      <td>0</td>\n",
              "      <td>A/5 21171</td>\n",
              "      <td>7.2500</td>\n",
              "      <td>NaN</td>\n",
              "      <td>S</td>\n",
              "    </tr>\n",
              "    <tr>\n",
              "      <th>1</th>\n",
              "      <td>2</td>\n",
              "      <td>1</td>\n",
              "      <td>1</td>\n",
              "      <td>Cumings, Mrs. John Bradley (Florence Briggs Th...</td>\n",
              "      <td>female</td>\n",
              "      <td>38.0</td>\n",
              "      <td>1</td>\n",
              "      <td>0</td>\n",
              "      <td>PC 17599</td>\n",
              "      <td>71.2833</td>\n",
              "      <td>C85</td>\n",
              "      <td>C</td>\n",
              "    </tr>\n",
              "    <tr>\n",
              "      <th>2</th>\n",
              "      <td>3</td>\n",
              "      <td>1</td>\n",
              "      <td>3</td>\n",
              "      <td>Heikkinen, Miss. Laina</td>\n",
              "      <td>female</td>\n",
              "      <td>26.0</td>\n",
              "      <td>0</td>\n",
              "      <td>0</td>\n",
              "      <td>STON/O2. 3101282</td>\n",
              "      <td>7.9250</td>\n",
              "      <td>NaN</td>\n",
              "      <td>S</td>\n",
              "    </tr>\n",
              "    <tr>\n",
              "      <th>3</th>\n",
              "      <td>4</td>\n",
              "      <td>1</td>\n",
              "      <td>1</td>\n",
              "      <td>Futrelle, Mrs. Jacques Heath (Lily May Peel)</td>\n",
              "      <td>female</td>\n",
              "      <td>35.0</td>\n",
              "      <td>1</td>\n",
              "      <td>0</td>\n",
              "      <td>113803</td>\n",
              "      <td>53.1000</td>\n",
              "      <td>C123</td>\n",
              "      <td>S</td>\n",
              "    </tr>\n",
              "    <tr>\n",
              "      <th>4</th>\n",
              "      <td>5</td>\n",
              "      <td>0</td>\n",
              "      <td>3</td>\n",
              "      <td>Allen, Mr. William Henry</td>\n",
              "      <td>male</td>\n",
              "      <td>35.0</td>\n",
              "      <td>0</td>\n",
              "      <td>0</td>\n",
              "      <td>373450</td>\n",
              "      <td>8.0500</td>\n",
              "      <td>NaN</td>\n",
              "      <td>S</td>\n",
              "    </tr>\n",
              "  </tbody>\n",
              "</table>\n",
              "</div>"
            ],
            "text/plain": [
              "   PassengerId  Survived  Pclass  ...     Fare Cabin  Embarked\n",
              "0            1         0       3  ...   7.2500   NaN         S\n",
              "1            2         1       1  ...  71.2833   C85         C\n",
              "2            3         1       3  ...   7.9250   NaN         S\n",
              "3            4         1       1  ...  53.1000  C123         S\n",
              "4            5         0       3  ...   8.0500   NaN         S\n",
              "\n",
              "[5 rows x 12 columns]"
            ]
          },
          "metadata": {},
          "execution_count": 142
        }
      ]
    },
    {
      "cell_type": "code",
      "source": [
        "test.head()"
      ],
      "metadata": {
        "colab": {
          "base_uri": "https://localhost:8080/",
          "height": 258
        },
        "id": "22ViLoZUkiJq",
        "outputId": "114fbccd-65ce-49b5-de70-6f509a2538ce"
      },
      "execution_count": 143,
      "outputs": [
        {
          "output_type": "execute_result",
          "data": {
            "text/html": [
              "<div>\n",
              "<style scoped>\n",
              "    .dataframe tbody tr th:only-of-type {\n",
              "        vertical-align: middle;\n",
              "    }\n",
              "\n",
              "    .dataframe tbody tr th {\n",
              "        vertical-align: top;\n",
              "    }\n",
              "\n",
              "    .dataframe thead th {\n",
              "        text-align: right;\n",
              "    }\n",
              "</style>\n",
              "<table border=\"1\" class=\"dataframe\">\n",
              "  <thead>\n",
              "    <tr style=\"text-align: right;\">\n",
              "      <th></th>\n",
              "      <th>PassengerId</th>\n",
              "      <th>Pclass</th>\n",
              "      <th>Name</th>\n",
              "      <th>Sex</th>\n",
              "      <th>Age</th>\n",
              "      <th>SibSp</th>\n",
              "      <th>Parch</th>\n",
              "      <th>Ticket</th>\n",
              "      <th>Fare</th>\n",
              "      <th>Cabin</th>\n",
              "      <th>Embarked</th>\n",
              "    </tr>\n",
              "  </thead>\n",
              "  <tbody>\n",
              "    <tr>\n",
              "      <th>0</th>\n",
              "      <td>892</td>\n",
              "      <td>3</td>\n",
              "      <td>Kelly, Mr. James</td>\n",
              "      <td>male</td>\n",
              "      <td>34.5</td>\n",
              "      <td>0</td>\n",
              "      <td>0</td>\n",
              "      <td>330911</td>\n",
              "      <td>7.8292</td>\n",
              "      <td>NaN</td>\n",
              "      <td>Q</td>\n",
              "    </tr>\n",
              "    <tr>\n",
              "      <th>1</th>\n",
              "      <td>893</td>\n",
              "      <td>3</td>\n",
              "      <td>Wilkes, Mrs. James (Ellen Needs)</td>\n",
              "      <td>female</td>\n",
              "      <td>47.0</td>\n",
              "      <td>1</td>\n",
              "      <td>0</td>\n",
              "      <td>363272</td>\n",
              "      <td>7.0000</td>\n",
              "      <td>NaN</td>\n",
              "      <td>S</td>\n",
              "    </tr>\n",
              "    <tr>\n",
              "      <th>2</th>\n",
              "      <td>894</td>\n",
              "      <td>2</td>\n",
              "      <td>Myles, Mr. Thomas Francis</td>\n",
              "      <td>male</td>\n",
              "      <td>62.0</td>\n",
              "      <td>0</td>\n",
              "      <td>0</td>\n",
              "      <td>240276</td>\n",
              "      <td>9.6875</td>\n",
              "      <td>NaN</td>\n",
              "      <td>Q</td>\n",
              "    </tr>\n",
              "    <tr>\n",
              "      <th>3</th>\n",
              "      <td>895</td>\n",
              "      <td>3</td>\n",
              "      <td>Wirz, Mr. Albert</td>\n",
              "      <td>male</td>\n",
              "      <td>27.0</td>\n",
              "      <td>0</td>\n",
              "      <td>0</td>\n",
              "      <td>315154</td>\n",
              "      <td>8.6625</td>\n",
              "      <td>NaN</td>\n",
              "      <td>S</td>\n",
              "    </tr>\n",
              "    <tr>\n",
              "      <th>4</th>\n",
              "      <td>896</td>\n",
              "      <td>3</td>\n",
              "      <td>Hirvonen, Mrs. Alexander (Helga E Lindqvist)</td>\n",
              "      <td>female</td>\n",
              "      <td>22.0</td>\n",
              "      <td>1</td>\n",
              "      <td>1</td>\n",
              "      <td>3101298</td>\n",
              "      <td>12.2875</td>\n",
              "      <td>NaN</td>\n",
              "      <td>S</td>\n",
              "    </tr>\n",
              "  </tbody>\n",
              "</table>\n",
              "</div>"
            ],
            "text/plain": [
              "   PassengerId  Pclass  ... Cabin Embarked\n",
              "0          892       3  ...   NaN        Q\n",
              "1          893       3  ...   NaN        S\n",
              "2          894       2  ...   NaN        Q\n",
              "3          895       3  ...   NaN        S\n",
              "4          896       3  ...   NaN        S\n",
              "\n",
              "[5 rows x 11 columns]"
            ]
          },
          "metadata": {},
          "execution_count": 143
        }
      ]
    },
    {
      "cell_type": "code",
      "source": [
        "# Checking the shape of train dataset and the datatypes\n",
        "def Shape(data):\n",
        "    data.shape\n",
        "    types=data.dtypes\n",
        "    print(\"The Titanic dataset has \",data.shape[0],\"rows and \",data.shape[1],\" columns \")\n",
        "    print(types)\n",
        "#calling the function\n",
        "Shape(data)"
      ],
      "metadata": {
        "colab": {
          "base_uri": "https://localhost:8080/"
        },
        "id": "vVGTPaAOdJpd",
        "outputId": "b49a81b7-9957-4cb2-a74f-b130e9dfa802"
      },
      "execution_count": 144,
      "outputs": [
        {
          "output_type": "stream",
          "name": "stdout",
          "text": [
            "The Titanic dataset has  891 rows and  12  columns \n",
            "PassengerId      int64\n",
            "Survived         int64\n",
            "Pclass           int64\n",
            "Name            object\n",
            "Sex             object\n",
            "Age            float64\n",
            "SibSp            int64\n",
            "Parch            int64\n",
            "Ticket          object\n",
            "Fare           float64\n",
            "Cabin           object\n",
            "Embarked        object\n",
            "dtype: object\n"
          ]
        }
      ]
    },
    {
      "cell_type": "code",
      "source": [
        "#checking for the test dataset\n",
        "Shape(test)"
      ],
      "metadata": {
        "colab": {
          "base_uri": "https://localhost:8080/"
        },
        "id": "XN6EVeEzdw5Y",
        "outputId": "1397fc23-a6c0-4558-abcf-3cf2866eec65"
      },
      "execution_count": 145,
      "outputs": [
        {
          "output_type": "stream",
          "name": "stdout",
          "text": [
            "The Titanic dataset has  418 rows and  11  columns \n",
            "PassengerId      int64\n",
            "Pclass           int64\n",
            "Name            object\n",
            "Sex             object\n",
            "Age            float64\n",
            "SibSp            int64\n",
            "Parch            int64\n",
            "Ticket          object\n",
            "Fare           float64\n",
            "Cabin           object\n",
            "Embarked        object\n",
            "dtype: object\n"
          ]
        }
      ]
    },
    {
      "cell_type": "code",
      "source": [
        "data.describe()"
      ],
      "metadata": {
        "colab": {
          "base_uri": "https://localhost:8080/",
          "height": 300
        },
        "id": "mc34XBenfjEs",
        "outputId": "c663568a-0daa-4569-c849-c32ba825c8d8"
      },
      "execution_count": 146,
      "outputs": [
        {
          "output_type": "execute_result",
          "data": {
            "text/html": [
              "<div>\n",
              "<style scoped>\n",
              "    .dataframe tbody tr th:only-of-type {\n",
              "        vertical-align: middle;\n",
              "    }\n",
              "\n",
              "    .dataframe tbody tr th {\n",
              "        vertical-align: top;\n",
              "    }\n",
              "\n",
              "    .dataframe thead th {\n",
              "        text-align: right;\n",
              "    }\n",
              "</style>\n",
              "<table border=\"1\" class=\"dataframe\">\n",
              "  <thead>\n",
              "    <tr style=\"text-align: right;\">\n",
              "      <th></th>\n",
              "      <th>PassengerId</th>\n",
              "      <th>Survived</th>\n",
              "      <th>Pclass</th>\n",
              "      <th>Age</th>\n",
              "      <th>SibSp</th>\n",
              "      <th>Parch</th>\n",
              "      <th>Fare</th>\n",
              "    </tr>\n",
              "  </thead>\n",
              "  <tbody>\n",
              "    <tr>\n",
              "      <th>count</th>\n",
              "      <td>891.000000</td>\n",
              "      <td>891.000000</td>\n",
              "      <td>891.000000</td>\n",
              "      <td>714.000000</td>\n",
              "      <td>891.000000</td>\n",
              "      <td>891.000000</td>\n",
              "      <td>891.000000</td>\n",
              "    </tr>\n",
              "    <tr>\n",
              "      <th>mean</th>\n",
              "      <td>446.000000</td>\n",
              "      <td>0.383838</td>\n",
              "      <td>2.308642</td>\n",
              "      <td>29.699118</td>\n",
              "      <td>0.523008</td>\n",
              "      <td>0.381594</td>\n",
              "      <td>32.204208</td>\n",
              "    </tr>\n",
              "    <tr>\n",
              "      <th>std</th>\n",
              "      <td>257.353842</td>\n",
              "      <td>0.486592</td>\n",
              "      <td>0.836071</td>\n",
              "      <td>14.526497</td>\n",
              "      <td>1.102743</td>\n",
              "      <td>0.806057</td>\n",
              "      <td>49.693429</td>\n",
              "    </tr>\n",
              "    <tr>\n",
              "      <th>min</th>\n",
              "      <td>1.000000</td>\n",
              "      <td>0.000000</td>\n",
              "      <td>1.000000</td>\n",
              "      <td>0.420000</td>\n",
              "      <td>0.000000</td>\n",
              "      <td>0.000000</td>\n",
              "      <td>0.000000</td>\n",
              "    </tr>\n",
              "    <tr>\n",
              "      <th>25%</th>\n",
              "      <td>223.500000</td>\n",
              "      <td>0.000000</td>\n",
              "      <td>2.000000</td>\n",
              "      <td>20.125000</td>\n",
              "      <td>0.000000</td>\n",
              "      <td>0.000000</td>\n",
              "      <td>7.910400</td>\n",
              "    </tr>\n",
              "    <tr>\n",
              "      <th>50%</th>\n",
              "      <td>446.000000</td>\n",
              "      <td>0.000000</td>\n",
              "      <td>3.000000</td>\n",
              "      <td>28.000000</td>\n",
              "      <td>0.000000</td>\n",
              "      <td>0.000000</td>\n",
              "      <td>14.454200</td>\n",
              "    </tr>\n",
              "    <tr>\n",
              "      <th>75%</th>\n",
              "      <td>668.500000</td>\n",
              "      <td>1.000000</td>\n",
              "      <td>3.000000</td>\n",
              "      <td>38.000000</td>\n",
              "      <td>1.000000</td>\n",
              "      <td>0.000000</td>\n",
              "      <td>31.000000</td>\n",
              "    </tr>\n",
              "    <tr>\n",
              "      <th>max</th>\n",
              "      <td>891.000000</td>\n",
              "      <td>1.000000</td>\n",
              "      <td>3.000000</td>\n",
              "      <td>80.000000</td>\n",
              "      <td>8.000000</td>\n",
              "      <td>6.000000</td>\n",
              "      <td>512.329200</td>\n",
              "    </tr>\n",
              "  </tbody>\n",
              "</table>\n",
              "</div>"
            ],
            "text/plain": [
              "       PassengerId    Survived      Pclass  ...       SibSp       Parch        Fare\n",
              "count   891.000000  891.000000  891.000000  ...  891.000000  891.000000  891.000000\n",
              "mean    446.000000    0.383838    2.308642  ...    0.523008    0.381594   32.204208\n",
              "std     257.353842    0.486592    0.836071  ...    1.102743    0.806057   49.693429\n",
              "min       1.000000    0.000000    1.000000  ...    0.000000    0.000000    0.000000\n",
              "25%     223.500000    0.000000    2.000000  ...    0.000000    0.000000    7.910400\n",
              "50%     446.000000    0.000000    3.000000  ...    0.000000    0.000000   14.454200\n",
              "75%     668.500000    1.000000    3.000000  ...    1.000000    0.000000   31.000000\n",
              "max     891.000000    1.000000    3.000000  ...    8.000000    6.000000  512.329200\n",
              "\n",
              "[8 rows x 7 columns]"
            ]
          },
          "metadata": {},
          "execution_count": 146
        }
      ]
    },
    {
      "cell_type": "code",
      "source": [
        "# let's find out the missing values in train dataset\n",
        "\n",
        "data.isnull().sum()"
      ],
      "metadata": {
        "colab": {
          "base_uri": "https://localhost:8080/"
        },
        "id": "vNQl8VTRfo9o",
        "outputId": "771c94df-2d57-4fa0-a083-7eac84f9b217"
      },
      "execution_count": 147,
      "outputs": [
        {
          "output_type": "execute_result",
          "data": {
            "text/plain": [
              "PassengerId      0\n",
              "Survived         0\n",
              "Pclass           0\n",
              "Name             0\n",
              "Sex              0\n",
              "Age            177\n",
              "SibSp            0\n",
              "Parch            0\n",
              "Ticket           0\n",
              "Fare             0\n",
              "Cabin          687\n",
              "Embarked         2\n",
              "dtype: int64"
            ]
          },
          "metadata": {},
          "execution_count": 147
        }
      ]
    },
    {
      "cell_type": "markdown",
      "source": [
        "There are 177 missing values in the age column which will be appropriate to fill with median or the mean while cleaning, also 687 missing values in the cabin column and two in the embarked which means the passengers are not known where the embarked on the Titanic ship"
      ],
      "metadata": {
        "id": "v3ltqlHtgGE1"
      }
    },
    {
      "cell_type": "code",
      "source": [
        "#checking for missing values in the test dataset\n",
        "test.isnull().sum()"
      ],
      "metadata": {
        "colab": {
          "base_uri": "https://localhost:8080/"
        },
        "id": "jRvyli4uhybh",
        "outputId": "128b432b-1d9f-4979-c0b2-b7b9bd8bd57d"
      },
      "execution_count": 148,
      "outputs": [
        {
          "output_type": "execute_result",
          "data": {
            "text/plain": [
              "PassengerId      0\n",
              "Pclass           0\n",
              "Name             0\n",
              "Sex              0\n",
              "Age             86\n",
              "SibSp            0\n",
              "Parch            0\n",
              "Ticket           0\n",
              "Fare             1\n",
              "Cabin          327\n",
              "Embarked         0\n",
              "dtype: int64"
            ]
          },
          "metadata": {},
          "execution_count": 148
        }
      ]
    },
    {
      "cell_type": "markdown",
      "source": [
        "There are 327 missing values in the cabin column, 86 missing values in the age column and 1 missing value in the Fare column.\n",
        "\n"
      ],
      "metadata": {
        "id": "dEe04HoxiHiE"
      }
    },
    {
      "cell_type": "code",
      "source": [
        "# Draw heat map to check numm values in train data\n",
        "sns.heatmap(data.isnull(), cmap=\"viridis\")"
      ],
      "metadata": {
        "colab": {
          "base_uri": "https://localhost:8080/",
          "height": 339
        },
        "id": "VlI-lKOpj_cJ",
        "outputId": "0a6bc7e1-3089-4c9c-8b9b-bd11cb4e6688"
      },
      "execution_count": 149,
      "outputs": [
        {
          "output_type": "execute_result",
          "data": {
            "text/plain": [
              "<matplotlib.axes._subplots.AxesSubplot at 0x7fb982e3cfd0>"
            ]
          },
          "metadata": {},
          "execution_count": 149
        },
        {
          "output_type": "display_data",
          "data": {
            "image/png": "[encoded data removed]",
            "text/plain": [
              "<Figure size 432x288 with 2 Axes>"
            ]
          },
          "metadata": {
            "needs_background": "light"
          }
        }
      ]
    },
    {
      "cell_type": "code",
      "source": [
        "# Draw heat map to check numm values in test data\n",
        "sns.heatmap(test.isnull(),cmap=\"cividis\")"
      ],
      "metadata": {
        "colab": {
          "base_uri": "https://localhost:8080/",
          "height": 339
        },
        "id": "P7TU7JcLh9dH",
        "outputId": "7c32dc63-db77-4fe9-cb4b-55b0953d89cb"
      },
      "execution_count": 150,
      "outputs": [
        {
          "output_type": "execute_result",
          "data": {
            "text/plain": [
              "<matplotlib.axes._subplots.AxesSubplot at 0x7fb98ca06610>"
            ]
          },
          "metadata": {},
          "execution_count": 150
        },
        {
          "output_type": "display_data",
          "data": {
            "image/png": "[encoded data removed]",
            "text/plain": [
              "<Figure size 432x288 with 2 Axes>"
            ]
          },
          "metadata": {
            "needs_background": "light"
          }
        }
      ]
    },
    {
      "cell_type": "markdown",
      "source": [
        "#4.) External Data Source Validation.\n",
        "The train dataset and test data set are the same with one having our traget variable and therefore appropriate for analysis.\n"
      ],
      "metadata": {
        "id": "xxgGrdFbemBB"
      }
    },
    {
      "cell_type": "markdown",
      "source": [
        "#5.) Tidying the dataset "
      ],
      "metadata": {
        "id": "WcUFJaLXlHrY"
      }
    },
    {
      "cell_type": "markdown",
      "source": [
        "##Data cleaning "
      ],
      "metadata": {
        "id": "x_kAH2bosNLl"
      }
    },
    {
      "cell_type": "code",
      "source": [
        "def clean(data):\n",
        "  data=data.drop([\"PassengerId\",\"Cabin\",\"Name\",\"Ticket\" ], axis=1)#dropping the columns \n",
        "  cols=['SibSp','Parch','Fare','Age']\n",
        "  for col in cols:\n",
        "    data[col].fillna(data[col].median(), inplace=True)#filling missing values with median \n",
        "\n",
        "  data.Embarked.fillna(\"U\", inplace=True)#Giving U to the unknown value in embarked column\n",
        "  return data\n",
        "\n",
        "data =clean(data)\n",
        "test=clean(test)"
      ],
      "metadata": {
        "id": "3U7k_vtnsMJm"
      },
      "execution_count": 151,
      "outputs": []
    },
    {
      "cell_type": "code",
      "source": [
        "data.head(5)"
      ],
      "metadata": {
        "colab": {
          "base_uri": "https://localhost:8080/",
          "height": 206
        },
        "id": "qZv4aoFzupqy",
        "outputId": "2397f27f-3823-4022-bced-4cc2e624eba5"
      },
      "execution_count": 152,
      "outputs": [
        {
          "output_type": "execute_result",
          "data": {
            "text/html": [
              "<div>\n",
              "<style scoped>\n",
              "    .dataframe tbody tr th:only-of-type {\n",
              "        vertical-align: middle;\n",
              "    }\n",
              "\n",
              "    .dataframe tbody tr th {\n",
              "        vertical-align: top;\n",
              "    }\n",
              "\n",
              "    .dataframe thead th {\n",
              "        text-align: right;\n",
              "    }\n",
              "</style>\n",
              "<table border=\"1\" class=\"dataframe\">\n",
              "  <thead>\n",
              "    <tr style=\"text-align: right;\">\n",
              "      <th></th>\n",
              "      <th>Survived</th>\n",
              "      <th>Pclass</th>\n",
              "      <th>Sex</th>\n",
              "      <th>Age</th>\n",
              "      <th>SibSp</th>\n",
              "      <th>Parch</th>\n",
              "      <th>Fare</th>\n",
              "      <th>Embarked</th>\n",
              "    </tr>\n",
              "  </thead>\n",
              "  <tbody>\n",
              "    <tr>\n",
              "      <th>0</th>\n",
              "      <td>0</td>\n",
              "      <td>3</td>\n",
              "      <td>male</td>\n",
              "      <td>22.0</td>\n",
              "      <td>1</td>\n",
              "      <td>0</td>\n",
              "      <td>7.2500</td>\n",
              "      <td>S</td>\n",
              "    </tr>\n",
              "    <tr>\n",
              "      <th>1</th>\n",
              "      <td>1</td>\n",
              "      <td>1</td>\n",
              "      <td>female</td>\n",
              "      <td>38.0</td>\n",
              "      <td>1</td>\n",
              "      <td>0</td>\n",
              "      <td>71.2833</td>\n",
              "      <td>C</td>\n",
              "    </tr>\n",
              "    <tr>\n",
              "      <th>2</th>\n",
              "      <td>1</td>\n",
              "      <td>3</td>\n",
              "      <td>female</td>\n",
              "      <td>26.0</td>\n",
              "      <td>0</td>\n",
              "      <td>0</td>\n",
              "      <td>7.9250</td>\n",
              "      <td>S</td>\n",
              "    </tr>\n",
              "    <tr>\n",
              "      <th>3</th>\n",
              "      <td>1</td>\n",
              "      <td>1</td>\n",
              "      <td>female</td>\n",
              "      <td>35.0</td>\n",
              "      <td>1</td>\n",
              "      <td>0</td>\n",
              "      <td>53.1000</td>\n",
              "      <td>S</td>\n",
              "    </tr>\n",
              "    <tr>\n",
              "      <th>4</th>\n",
              "      <td>0</td>\n",
              "      <td>3</td>\n",
              "      <td>male</td>\n",
              "      <td>35.0</td>\n",
              "      <td>0</td>\n",
              "      <td>0</td>\n",
              "      <td>8.0500</td>\n",
              "      <td>S</td>\n",
              "    </tr>\n",
              "  </tbody>\n",
              "</table>\n",
              "</div>"
            ],
            "text/plain": [
              "   Survived  Pclass     Sex   Age  SibSp  Parch     Fare Embarked\n",
              "0         0       3    male  22.0      1      0   7.2500        S\n",
              "1         1       1  female  38.0      1      0  71.2833        C\n",
              "2         1       3  female  26.0      0      0   7.9250        S\n",
              "3         1       1  female  35.0      1      0  53.1000        S\n",
              "4         0       3    male  35.0      0      0   8.0500        S"
            ]
          },
          "metadata": {},
          "execution_count": 152
        }
      ]
    },
    {
      "cell_type": "code",
      "source": [
        "test.head(5)"
      ],
      "metadata": {
        "colab": {
          "base_uri": "https://localhost:8080/",
          "height": 206
        },
        "id": "BAXydAX3vkEH",
        "outputId": "80e98ef0-29bd-43cb-aa5f-17ae7abbf455"
      },
      "execution_count": 153,
      "outputs": [
        {
          "output_type": "execute_result",
          "data": {
            "text/html": [
              "<div>\n",
              "<style scoped>\n",
              "    .dataframe tbody tr th:only-of-type {\n",
              "        vertical-align: middle;\n",
              "    }\n",
              "\n",
              "    .dataframe tbody tr th {\n",
              "        vertical-align: top;\n",
              "    }\n",
              "\n",
              "    .dataframe thead th {\n",
              "        text-align: right;\n",
              "    }\n",
              "</style>\n",
              "<table border=\"1\" class=\"dataframe\">\n",
              "  <thead>\n",
              "    <tr style=\"text-align: right;\">\n",
              "      <th></th>\n",
              "      <th>Pclass</th>\n",
              "      <th>Sex</th>\n",
              "      <th>Age</th>\n",
              "      <th>SibSp</th>\n",
              "      <th>Parch</th>\n",
              "      <th>Fare</th>\n",
              "      <th>Embarked</th>\n",
              "    </tr>\n",
              "  </thead>\n",
              "  <tbody>\n",
              "    <tr>\n",
              "      <th>0</th>\n",
              "      <td>3</td>\n",
              "      <td>male</td>\n",
              "      <td>34.5</td>\n",
              "      <td>0</td>\n",
              "      <td>0</td>\n",
              "      <td>7.8292</td>\n",
              "      <td>Q</td>\n",
              "    </tr>\n",
              "    <tr>\n",
              "      <th>1</th>\n",
              "      <td>3</td>\n",
              "      <td>female</td>\n",
              "      <td>47.0</td>\n",
              "      <td>1</td>\n",
              "      <td>0</td>\n",
              "      <td>7.0000</td>\n",
              "      <td>S</td>\n",
              "    </tr>\n",
              "    <tr>\n",
              "      <th>2</th>\n",
              "      <td>2</td>\n",
              "      <td>male</td>\n",
              "      <td>62.0</td>\n",
              "      <td>0</td>\n",
              "      <td>0</td>\n",
              "      <td>9.6875</td>\n",
              "      <td>Q</td>\n",
              "    </tr>\n",
              "    <tr>\n",
              "      <th>3</th>\n",
              "      <td>3</td>\n",
              "      <td>male</td>\n",
              "      <td>27.0</td>\n",
              "      <td>0</td>\n",
              "      <td>0</td>\n",
              "      <td>8.6625</td>\n",
              "      <td>S</td>\n",
              "    </tr>\n",
              "    <tr>\n",
              "      <th>4</th>\n",
              "      <td>3</td>\n",
              "      <td>female</td>\n",
              "      <td>22.0</td>\n",
              "      <td>1</td>\n",
              "      <td>1</td>\n",
              "      <td>12.2875</td>\n",
              "      <td>S</td>\n",
              "    </tr>\n",
              "  </tbody>\n",
              "</table>\n",
              "</div>"
            ],
            "text/plain": [
              "   Pclass     Sex   Age  SibSp  Parch     Fare Embarked\n",
              "0       3    male  34.5      0      0   7.8292        Q\n",
              "1       3  female  47.0      1      0   7.0000        S\n",
              "2       2    male  62.0      0      0   9.6875        Q\n",
              "3       3    male  27.0      0      0   8.6625        S\n",
              "4       3  female  22.0      1      1  12.2875        S"
            ]
          },
          "metadata": {},
          "execution_count": 153
        }
      ]
    },
    {
      "cell_type": "markdown",
      "source": [
        "##Rechecking the data using heatmap"
      ],
      "metadata": {
        "id": "Qph2Hgpvl1nN"
      }
    },
    {
      "cell_type": "code",
      "source": [
        "# Draw heat map to check number of missing values in train data\n",
        "sns.heatmap(data.isnull(), cmap=\"viridis\")"
      ],
      "metadata": {
        "colab": {
          "base_uri": "https://localhost:8080/",
          "height": 328
        },
        "id": "5ixu7i5alzkH",
        "outputId": "5ed354af-9004-4e79-bcb1-f2784c321cd8"
      },
      "execution_count": 154,
      "outputs": [
        {
          "output_type": "execute_result",
          "data": {
            "text/plain": [
              "<matplotlib.axes._subplots.AxesSubplot at 0x7fb98c91b510>"
            ]
          },
          "metadata": {},
          "execution_count": 154
        },
        {
          "output_type": "display_data",
          "data": {
            "image/png": "[encoded data removed]",
            "text/plain": [
              "<Figure size 432x288 with 2 Axes>"
            ]
          },
          "metadata": {
            "needs_background": "light"
          }
        }
      ]
    },
    {
      "cell_type": "code",
      "source": [
        "# Draw heat map to check missing  values in test data\n",
        "sns.heatmap(test.isnull(), cmap=\"cividis\")"
      ],
      "metadata": {
        "colab": {
          "base_uri": "https://localhost:8080/",
          "height": 288
        },
        "id": "FcTdoHnWmJen",
        "outputId": "1bfd7600-848a-4ae8-8eec-d0598aef0da3"
      },
      "execution_count": 155,
      "outputs": [
        {
          "output_type": "execute_result",
          "data": {
            "text/plain": [
              "<matplotlib.axes._subplots.AxesSubplot at 0x7fb98239bc90>"
            ]
          },
          "metadata": {},
          "execution_count": 155
        },
        {
          "output_type": "display_data",
          "data": {
            "image/png": "[encoded data removed]",
            "text/plain": [
              "<Figure size 432x288 with 2 Axes>"
            ]
          },
          "metadata": {
            "needs_background": "light"
          }
        }
      ]
    },
    {
      "cell_type": "markdown",
      "source": [
        "#6.) Exploratory Data Analysis"
      ],
      "metadata": {
        "id": "CwrjkjaVuy8m"
      }
    },
    {
      "cell_type": "markdown",
      "source": [
        "trainning dataset "
      ],
      "metadata": {
        "id": "dveKnfJOu_ao"
      }
    },
    {
      "cell_type": "code",
      "source": [
        "data.head()"
      ],
      "metadata": {
        "colab": {
          "base_uri": "https://localhost:8080/",
          "height": 206
        },
        "id": "ngmqOvzgu-I4",
        "outputId": "fd48d9ca-b67f-44a8-b42c-d0601fc3a736"
      },
      "execution_count": 156,
      "outputs": [
        {
          "output_type": "execute_result",
          "data": {
            "text/html": [
              "<div>\n",
              "<style scoped>\n",
              "    .dataframe tbody tr th:only-of-type {\n",
              "        vertical-align: middle;\n",
              "    }\n",
              "\n",
              "    .dataframe tbody tr th {\n",
              "        vertical-align: top;\n",
              "    }\n",
              "\n",
              "    .dataframe thead th {\n",
              "        text-align: right;\n",
              "    }\n",
              "</style>\n",
              "<table border=\"1\" class=\"dataframe\">\n",
              "  <thead>\n",
              "    <tr style=\"text-align: right;\">\n",
              "      <th></th>\n",
              "      <th>Survived</th>\n",
              "      <th>Pclass</th>\n",
              "      <th>Sex</th>\n",
              "      <th>Age</th>\n",
              "      <th>SibSp</th>\n",
              "      <th>Parch</th>\n",
              "      <th>Fare</th>\n",
              "      <th>Embarked</th>\n",
              "    </tr>\n",
              "  </thead>\n",
              "  <tbody>\n",
              "    <tr>\n",
              "      <th>0</th>\n",
              "      <td>0</td>\n",
              "      <td>3</td>\n",
              "      <td>male</td>\n",
              "      <td>22.0</td>\n",
              "      <td>1</td>\n",
              "      <td>0</td>\n",
              "      <td>7.2500</td>\n",
              "      <td>S</td>\n",
              "    </tr>\n",
              "    <tr>\n",
              "      <th>1</th>\n",
              "      <td>1</td>\n",
              "      <td>1</td>\n",
              "      <td>female</td>\n",
              "      <td>38.0</td>\n",
              "      <td>1</td>\n",
              "      <td>0</td>\n",
              "      <td>71.2833</td>\n",
              "      <td>C</td>\n",
              "    </tr>\n",
              "    <tr>\n",
              "      <th>2</th>\n",
              "      <td>1</td>\n",
              "      <td>3</td>\n",
              "      <td>female</td>\n",
              "      <td>26.0</td>\n",
              "      <td>0</td>\n",
              "      <td>0</td>\n",
              "      <td>7.9250</td>\n",
              "      <td>S</td>\n",
              "    </tr>\n",
              "    <tr>\n",
              "      <th>3</th>\n",
              "      <td>1</td>\n",
              "      <td>1</td>\n",
              "      <td>female</td>\n",
              "      <td>35.0</td>\n",
              "      <td>1</td>\n",
              "      <td>0</td>\n",
              "      <td>53.1000</td>\n",
              "      <td>S</td>\n",
              "    </tr>\n",
              "    <tr>\n",
              "      <th>4</th>\n",
              "      <td>0</td>\n",
              "      <td>3</td>\n",
              "      <td>male</td>\n",
              "      <td>35.0</td>\n",
              "      <td>0</td>\n",
              "      <td>0</td>\n",
              "      <td>8.0500</td>\n",
              "      <td>S</td>\n",
              "    </tr>\n",
              "  </tbody>\n",
              "</table>\n",
              "</div>"
            ],
            "text/plain": [
              "   Survived  Pclass     Sex   Age  SibSp  Parch     Fare Embarked\n",
              "0         0       3    male  22.0      1      0   7.2500        S\n",
              "1         1       1  female  38.0      1      0  71.2833        C\n",
              "2         1       3  female  26.0      0      0   7.9250        S\n",
              "3         1       1  female  35.0      1      0  53.1000        S\n",
              "4         0       3    male  35.0      0      0   8.0500        S"
            ]
          },
          "metadata": {},
          "execution_count": 156
        }
      ]
    },
    {
      "cell_type": "markdown",
      "source": [
        "##Univariate analysis"
      ],
      "metadata": {
        "id": "Blp-rBdhvOJ8"
      }
    },
    {
      "cell_type": "code",
      "source": [
        "# Plotting distplots for the continous variables\n",
        "train_cols=['Pclass','Age','SibSp','Parch','Fare']\n",
        "fig,ax=plt.subplots(len(train_cols),figsize=(12,29))\n",
        "for i,cols in enumerate(train_cols):\n",
        "    sns.distplot(data[cols],kde=True,ax=ax[i])\n",
        "    ax[i].set_title(\"The distribution of \"+format(cols),fontsize=15)\n",
        "plt.show()"
      ],
      "metadata": {
        "colab": {
          "base_uri": "https://localhost:8080/",
          "height": 1000
        },
        "id": "_rWkXFwJvH95",
        "outputId": "21adffa1-118f-40e9-e501-546931b731d8"
      },
      "execution_count": 157,
      "outputs": [
        {
          "output_type": "display_data",
          "data": {
            "image/png": "[encoded data removed]",
            "text/plain": [
              "<Figure size 864x2088 with 5 Axes>"
            ]
          },
          "metadata": {
            "needs_background": "light"
          }
        }
      ]
    },
    {
      "cell_type": "markdown",
      "source": [
        "Observation from the distplot for both discrete and continuous numerical columns:\n",
        "1. Passenger class was multi modal and categorized at first class, second class and 3rd class denoted as (1.0, 2.0 and 3.0). Most passengers were however found to be in the 3rd class followed by 1st class and the least being second class with few passengers\n",
        "2. Age being continuous is heavily tailed around the extreemities with an passangers having ages even above 80 years. It can be noted that many passengers were families with children and grandchildren.\n",
        "3. The number of siblings and spouses of a person onboard was concentrated around zero with the tail exteending to 8. The same can be reported for the parents and children, these extended upto 6 but very low in counts.\n",
        "It can be understood from the passengers class that even the fares paid by most passangers were on the lower rate"
      ],
      "metadata": {
        "id": "8DVfbLDQwCML"
      }
    },
    {
      "cell_type": "markdown",
      "source": [
        "##Bivariate Analysis"
      ],
      "metadata": {
        "id": "tijhErcDxQ65"
      }
    },
    {
      "cell_type": "code",
      "source": [
        "# defining a function to plot relationship between two variables\n",
        "def barplots(data,col1,col2):\n",
        "      plt.figure(figsize=(10,6))\n",
        "      sns.barplot(x=col1, y=col2,data=data, palette='Oranges_r')\n",
        "      plt.title('The relationship between '+str(col1)+' and those who '+str(col2),fontsize=15)\n",
        "      plt.show()"
      ],
      "metadata": {
        "id": "xPEBmkCCxgM3"
      },
      "execution_count": 158,
      "outputs": []
    },
    {
      "cell_type": "code",
      "source": [
        "barplots(data,'Pclass','Survived')"
      ],
      "metadata": {
        "colab": {
          "base_uri": "https://localhost:8080/",
          "height": 406
        },
        "id": "1UaVe3VivrkU",
        "outputId": "7a9d1bbd-c29b-47be-ca3d-2385247ec09d"
      },
      "execution_count": 159,
      "outputs": [
        {
          "output_type": "display_data",
          "data": {
            "image/png": "[encoded data removed]",
            "text/plain": [
              "<Figure size 720x432 with 1 Axes>"
            ]
          },
          "metadata": {
            "needs_background": "light"
          }
        }
      ]
    },
    {
      "cell_type": "markdown",
      "source": [
        "Most of the passenger who were in 1st class survived followed by those in second class and those in third class were the one whom most lost their life"
      ],
      "metadata": {
        "id": "UiWOtV1Ex0Ml"
      }
    },
    {
      "cell_type": "code",
      "source": [
        "barplots(data,'Sex','Survived')"
      ],
      "metadata": {
        "colab": {
          "base_uri": "https://localhost:8080/",
          "height": 406
        },
        "id": "aLiBC1ccyhRP",
        "outputId": "16b9e9a6-fa7b-4f20-84c2-83fad6e69d5c"
      },
      "execution_count": 160,
      "outputs": [
        {
          "output_type": "display_data",
          "data": {
            "image/png": "[encoded data removed]",
            "text/plain": [
              "<Figure size 720x432 with 1 Axes>"
            ]
          },
          "metadata": {
            "needs_background": "light"
          }
        }
      ]
    },
    {
      "cell_type": "markdown",
      "source": [
        "Females survived in a greater number as compared to men"
      ],
      "metadata": {
        "id": "BzrUlcSZyw2T"
      }
    },
    {
      "cell_type": "code",
      "source": [
        "barplots(data,'SibSp','Survived')\n"
      ],
      "metadata": {
        "colab": {
          "base_uri": "https://localhost:8080/",
          "height": 406
        },
        "id": "14xr30Z0ywdv",
        "outputId": "ee7c395f-b5a0-402c-9e5f-7a8865e2b950"
      },
      "execution_count": 161,
      "outputs": [
        {
          "output_type": "display_data",
          "data": {
            "image/png": "[encoded data removed]",
            "text/plain": [
              "<Figure size 720x432 with 1 Axes>"
            ]
          },
          "metadata": {
            "needs_background": "light"
          }
        }
      ]
    },
    {
      "cell_type": "markdown",
      "source": [
        "With an increased number of siblings and spouses the survival rate was deterotiating. This can be attributed to parents love towards their children, we can say they were trying to safe them and the aging factor because as we grow old there are more siblings we have.\n",
        "However the passengers without siblings and spouses onboard survived at a lower rate as compared to those with one and two."
      ],
      "metadata": {
        "id": "zONx-0pezIwt"
      }
    },
    {
      "cell_type": "code",
      "source": [
        "barplots(data,'Parch','Survived')\n"
      ],
      "metadata": {
        "colab": {
          "base_uri": "https://localhost:8080/",
          "height": 406
        },
        "id": "WKO3DPC-zGcC",
        "outputId": "c51a6213-ae58-4cef-9d7b-3024dd145737"
      },
      "execution_count": 162,
      "outputs": [
        {
          "output_type": "display_data",
          "data": {
            "image/png": "[encoded data removed]",
            "text/plain": [
              "<Figure size 720x432 with 1 Axes>"
            ]
          },
          "metadata": {
            "needs_background": "light"
          }
        }
      ]
    },
    {
      "cell_type": "markdown",
      "source": [
        "With an increased number of parents and children onboard  the survival rate was less.\n",
        "an exception is however seen with people without parents and siblings on board their survival rate was lower than those with 1 to 3."
      ],
      "metadata": {
        "id": "mjecLSNv0PXc"
      }
    },
    {
      "cell_type": "code",
      "source": [
        "barplots(data,'Embarked','Survived')\n"
      ],
      "metadata": {
        "colab": {
          "base_uri": "https://localhost:8080/",
          "height": 406
        },
        "id": "F4MYxprgz_b2",
        "outputId": "951d4b8e-116a-4b8b-9e3d-b28532bec13d"
      },
      "execution_count": 163,
      "outputs": [
        {
          "output_type": "display_data",
          "data": {
            "image/png": "[encoded data removed]",
            "text/plain": [
              "<Figure size 720x432 with 1 Axes>"
            ]
          },
          "metadata": {
            "needs_background": "light"
          }
        }
      ]
    },
    {
      "cell_type": "markdown",
      "source": [
        "U was the unknown embarking point and it was only one this means the passenger whose unknown embarking survived and Cherboug had the highest number of suvivors as compared to Queenstown and Southampton respectively"
      ],
      "metadata": {
        "id": "pj7TsPmY0peA"
      }
    },
    {
      "cell_type": "markdown",
      "source": [
        "#7.) Implementing the Solution"
      ],
      "metadata": {
        "id": "1phOUPgK2CB-"
      }
    },
    {
      "cell_type": "markdown",
      "source": [
        "##Feature engineering "
      ],
      "metadata": {
        "id": "baFpCP2j2Omi"
      }
    },
    {
      "cell_type": "code",
      "source": [
        "data.head(5)"
      ],
      "metadata": {
        "colab": {
          "base_uri": "https://localhost:8080/",
          "height": 206
        },
        "id": "XGv1gMX_3GLK",
        "outputId": "9c13144b-bd44-4b19-f6f6-86033cb13f6e"
      },
      "execution_count": 164,
      "outputs": [
        {
          "output_type": "execute_result",
          "data": {
            "text/html": [
              "<div>\n",
              "<style scoped>\n",
              "    .dataframe tbody tr th:only-of-type {\n",
              "        vertical-align: middle;\n",
              "    }\n",
              "\n",
              "    .dataframe tbody tr th {\n",
              "        vertical-align: top;\n",
              "    }\n",
              "\n",
              "    .dataframe thead th {\n",
              "        text-align: right;\n",
              "    }\n",
              "</style>\n",
              "<table border=\"1\" class=\"dataframe\">\n",
              "  <thead>\n",
              "    <tr style=\"text-align: right;\">\n",
              "      <th></th>\n",
              "      <th>Survived</th>\n",
              "      <th>Pclass</th>\n",
              "      <th>Sex</th>\n",
              "      <th>Age</th>\n",
              "      <th>SibSp</th>\n",
              "      <th>Parch</th>\n",
              "      <th>Fare</th>\n",
              "      <th>Embarked</th>\n",
              "    </tr>\n",
              "  </thead>\n",
              "  <tbody>\n",
              "    <tr>\n",
              "      <th>0</th>\n",
              "      <td>0</td>\n",
              "      <td>3</td>\n",
              "      <td>male</td>\n",
              "      <td>22.0</td>\n",
              "      <td>1</td>\n",
              "      <td>0</td>\n",
              "      <td>7.2500</td>\n",
              "      <td>S</td>\n",
              "    </tr>\n",
              "    <tr>\n",
              "      <th>1</th>\n",
              "      <td>1</td>\n",
              "      <td>1</td>\n",
              "      <td>female</td>\n",
              "      <td>38.0</td>\n",
              "      <td>1</td>\n",
              "      <td>0</td>\n",
              "      <td>71.2833</td>\n",
              "      <td>C</td>\n",
              "    </tr>\n",
              "    <tr>\n",
              "      <th>2</th>\n",
              "      <td>1</td>\n",
              "      <td>3</td>\n",
              "      <td>female</td>\n",
              "      <td>26.0</td>\n",
              "      <td>0</td>\n",
              "      <td>0</td>\n",
              "      <td>7.9250</td>\n",
              "      <td>S</td>\n",
              "    </tr>\n",
              "    <tr>\n",
              "      <th>3</th>\n",
              "      <td>1</td>\n",
              "      <td>1</td>\n",
              "      <td>female</td>\n",
              "      <td>35.0</td>\n",
              "      <td>1</td>\n",
              "      <td>0</td>\n",
              "      <td>53.1000</td>\n",
              "      <td>S</td>\n",
              "    </tr>\n",
              "    <tr>\n",
              "      <th>4</th>\n",
              "      <td>0</td>\n",
              "      <td>3</td>\n",
              "      <td>male</td>\n",
              "      <td>35.0</td>\n",
              "      <td>0</td>\n",
              "      <td>0</td>\n",
              "      <td>8.0500</td>\n",
              "      <td>S</td>\n",
              "    </tr>\n",
              "  </tbody>\n",
              "</table>\n",
              "</div>"
            ],
            "text/plain": [
              "   Survived  Pclass     Sex   Age  SibSp  Parch     Fare Embarked\n",
              "0         0       3    male  22.0      1      0   7.2500        S\n",
              "1         1       1  female  38.0      1      0  71.2833        C\n",
              "2         1       3  female  26.0      0      0   7.9250        S\n",
              "3         1       1  female  35.0      1      0  53.1000        S\n",
              "4         0       3    male  35.0      0      0   8.0500        S"
            ]
          },
          "metadata": {},
          "execution_count": 164
        }
      ]
    },
    {
      "cell_type": "code",
      "source": [
        "test.head(5)"
      ],
      "metadata": {
        "colab": {
          "base_uri": "https://localhost:8080/",
          "height": 206
        },
        "id": "LqyUD_Rk3KOd",
        "outputId": "8b92ee13-0813-4bd5-dbe1-a0d88096c865"
      },
      "execution_count": 165,
      "outputs": [
        {
          "output_type": "execute_result",
          "data": {
            "text/html": [
              "<div>\n",
              "<style scoped>\n",
              "    .dataframe tbody tr th:only-of-type {\n",
              "        vertical-align: middle;\n",
              "    }\n",
              "\n",
              "    .dataframe tbody tr th {\n",
              "        vertical-align: top;\n",
              "    }\n",
              "\n",
              "    .dataframe thead th {\n",
              "        text-align: right;\n",
              "    }\n",
              "</style>\n",
              "<table border=\"1\" class=\"dataframe\">\n",
              "  <thead>\n",
              "    <tr style=\"text-align: right;\">\n",
              "      <th></th>\n",
              "      <th>Pclass</th>\n",
              "      <th>Sex</th>\n",
              "      <th>Age</th>\n",
              "      <th>SibSp</th>\n",
              "      <th>Parch</th>\n",
              "      <th>Fare</th>\n",
              "      <th>Embarked</th>\n",
              "    </tr>\n",
              "  </thead>\n",
              "  <tbody>\n",
              "    <tr>\n",
              "      <th>0</th>\n",
              "      <td>3</td>\n",
              "      <td>male</td>\n",
              "      <td>34.5</td>\n",
              "      <td>0</td>\n",
              "      <td>0</td>\n",
              "      <td>7.8292</td>\n",
              "      <td>Q</td>\n",
              "    </tr>\n",
              "    <tr>\n",
              "      <th>1</th>\n",
              "      <td>3</td>\n",
              "      <td>female</td>\n",
              "      <td>47.0</td>\n",
              "      <td>1</td>\n",
              "      <td>0</td>\n",
              "      <td>7.0000</td>\n",
              "      <td>S</td>\n",
              "    </tr>\n",
              "    <tr>\n",
              "      <th>2</th>\n",
              "      <td>2</td>\n",
              "      <td>male</td>\n",
              "      <td>62.0</td>\n",
              "      <td>0</td>\n",
              "      <td>0</td>\n",
              "      <td>9.6875</td>\n",
              "      <td>Q</td>\n",
              "    </tr>\n",
              "    <tr>\n",
              "      <th>3</th>\n",
              "      <td>3</td>\n",
              "      <td>male</td>\n",
              "      <td>27.0</td>\n",
              "      <td>0</td>\n",
              "      <td>0</td>\n",
              "      <td>8.6625</td>\n",
              "      <td>S</td>\n",
              "    </tr>\n",
              "    <tr>\n",
              "      <th>4</th>\n",
              "      <td>3</td>\n",
              "      <td>female</td>\n",
              "      <td>22.0</td>\n",
              "      <td>1</td>\n",
              "      <td>1</td>\n",
              "      <td>12.2875</td>\n",
              "      <td>S</td>\n",
              "    </tr>\n",
              "  </tbody>\n",
              "</table>\n",
              "</div>"
            ],
            "text/plain": [
              "   Pclass     Sex   Age  SibSp  Parch     Fare Embarked\n",
              "0       3    male  34.5      0      0   7.8292        Q\n",
              "1       3  female  47.0      1      0   7.0000        S\n",
              "2       2    male  62.0      0      0   9.6875        Q\n",
              "3       3    male  27.0      0      0   8.6625        S\n",
              "4       3  female  22.0      1      1  12.2875        S"
            ]
          },
          "metadata": {},
          "execution_count": 165
        }
      ]
    },
    {
      "cell_type": "markdown",
      "source": [
        "From the above feature engineer the categorical columns to be numerical to enable analysis using the label encoder.\n",
        "Sex and embarked are the only ones that should be transformed."
      ],
      "metadata": {
        "id": "dBPubq0-3OR3"
      }
    },
    {
      "cell_type": "markdown",
      "source": [
        "##Label encoding "
      ],
      "metadata": {
        "id": "AoCpE7m_2KDc"
      }
    },
    {
      "cell_type": "code",
      "source": [
        " from sklearn import preprocessing \n",
        " le=preprocessing.LabelEncoder()\n",
        " cols=[\"Sex\",\"Embarked\"]\n",
        "\n",
        " for col in cols:\n",
        "   data[col]=le.fit_transform(data[col])\n",
        "   test[col]=le.transform(test[col])\n",
        "   print(le.classes_)\n",
        "print(\"The trainning dataset\\n\" \n",
        "      + str(data.head(5)))\n",
        "print(\"===============================================================\")\n",
        "print(\"The test dataset\\n\"\n",
        "      + str(test.head(5)))"
      ],
      "metadata": {
        "colab": {
          "base_uri": "https://localhost:8080/"
        },
        "id": "rkVJbnzvv87M",
        "outputId": "993aade1-27f9-43c0-da1c-60dbde531111"
      },
      "execution_count": 166,
      "outputs": [
        {
          "output_type": "stream",
          "name": "stdout",
          "text": [
            "['female' 'male']\n",
            "['C' 'Q' 'S' 'U']\n",
            "The trainning dataset\n",
            "   Survived  Pclass  Sex   Age  SibSp  Parch     Fare  Embarked\n",
            "0         0       3    1  22.0      1      0   7.2500         2\n",
            "1         1       1    0  38.0      1      0  71.2833         0\n",
            "2         1       3    0  26.0      0      0   7.9250         2\n",
            "3         1       1    0  35.0      1      0  53.1000         2\n",
            "4         0       3    1  35.0      0      0   8.0500         2\n",
            "===============================================================\n",
            "The test dataset\n",
            "   Pclass  Sex   Age  SibSp  Parch     Fare  Embarked\n",
            "0       3    1  34.5      0      0   7.8292         1\n",
            "1       3    0  47.0      1      0   7.0000         2\n",
            "2       2    1  62.0      0      0   9.6875         1\n",
            "3       3    1  27.0      0      0   8.6625         2\n",
            "4       3    0  22.0      1      1  12.2875         2\n"
          ]
        }
      ]
    },
    {
      "cell_type": "markdown",
      "source": [
        "Randomly partitioning the train data set into 80 % "
      ],
      "metadata": {
        "id": "OeD9V2AI6q_x"
      }
    },
    {
      "cell_type": "code",
      "source": [
        "\n",
        "data= data.sample(frac=0.8,random_state=200).reset_index().drop(columns='index')\n",
        "data.shape"
      ],
      "metadata": {
        "colab": {
          "base_uri": "https://localhost:8080/"
        },
        "id": "Nr4SeCCh5cda",
        "outputId": "6cc469f1-8bfd-42de-c5cf-58a838bc60fd"
      },
      "execution_count": 167,
      "outputs": [
        {
          "output_type": "execute_result",
          "data": {
            "text/plain": [
              "(713, 8)"
            ]
          },
          "metadata": {},
          "execution_count": 167
        }
      ]
    },
    {
      "cell_type": "markdown",
      "source": [
        "Data Preparation and features extraction"
      ],
      "metadata": {
        "id": "gkP61nQJ7Aj5"
      }
    },
    {
      "cell_type": "code",
      "source": [
        "\n",
        "X_feat=data.drop(columns=['Survived'],axis=1)\n",
        "X=X_feat.values\n",
        "# Extracting my target variable\n",
        "Y=data['Survived'].values\n",
        "# # The test set contains all Features therefore will rename it to\n",
        "X_real_feat=test\n",
        "X_real_test=X_real_feat.values"
      ],
      "metadata": {
        "id": "zMQH7E9I64qw"
      },
      "execution_count": 168,
      "outputs": []
    },
    {
      "cell_type": "code",
      "source": [
        "#printing the shape \n",
        "print(X.shape)\n",
        "print(X_real_test.shape)"
      ],
      "metadata": {
        "colab": {
          "base_uri": "https://localhost:8080/"
        },
        "id": "NphewrGb76Xy",
        "outputId": "fcd82b85-49b3-405c-a1bd-23de6e54bde8"
      },
      "execution_count": 169,
      "outputs": [
        {
          "output_type": "stream",
          "name": "stdout",
          "text": [
            "(713, 7)\n",
            "(418, 7)\n"
          ]
        }
      ]
    },
    {
      "cell_type": "markdown",
      "source": [
        "Checking for individual (VIF)  variance Inflation factor for Multicorlinearlity detection"
      ],
      "metadata": {
        "id": "wTMznk2t8ciW"
      }
    },
    {
      "cell_type": "code",
      "source": [
        "X_feat.corr()"
      ],
      "metadata": {
        "colab": {
          "base_uri": "https://localhost:8080/",
          "height": 269
        },
        "id": "e7obSYXx8JXE",
        "outputId": "06c0335f-5e4f-4aa6-e2e1-1d1d374e17d3"
      },
      "execution_count": 170,
      "outputs": [
        {
          "output_type": "execute_result",
          "data": {
            "text/html": [
              "<div>\n",
              "<style scoped>\n",
              "    .dataframe tbody tr th:only-of-type {\n",
              "        vertical-align: middle;\n",
              "    }\n",
              "\n",
              "    .dataframe tbody tr th {\n",
              "        vertical-align: top;\n",
              "    }\n",
              "\n",
              "    .dataframe thead th {\n",
              "        text-align: right;\n",
              "    }\n",
              "</style>\n",
              "<table border=\"1\" class=\"dataframe\">\n",
              "  <thead>\n",
              "    <tr style=\"text-align: right;\">\n",
              "      <th></th>\n",
              "      <th>Pclass</th>\n",
              "      <th>Sex</th>\n",
              "      <th>Age</th>\n",
              "      <th>SibSp</th>\n",
              "      <th>Parch</th>\n",
              "      <th>Fare</th>\n",
              "      <th>Embarked</th>\n",
              "    </tr>\n",
              "  </thead>\n",
              "  <tbody>\n",
              "    <tr>\n",
              "      <th>Pclass</th>\n",
              "      <td>1.000000</td>\n",
              "      <td>0.163197</td>\n",
              "      <td>-0.340424</td>\n",
              "      <td>0.059922</td>\n",
              "      <td>-0.007698</td>\n",
              "      <td>-0.559876</td>\n",
              "      <td>0.136976</td>\n",
              "    </tr>\n",
              "    <tr>\n",
              "      <th>Sex</th>\n",
              "      <td>0.163197</td>\n",
              "      <td>1.000000</td>\n",
              "      <td>0.088906</td>\n",
              "      <td>-0.133145</td>\n",
              "      <td>-0.217985</td>\n",
              "      <td>-0.175967</td>\n",
              "      <td>0.093364</td>\n",
              "    </tr>\n",
              "    <tr>\n",
              "      <th>Age</th>\n",
              "      <td>-0.340424</td>\n",
              "      <td>0.088906</td>\n",
              "      <td>1.000000</td>\n",
              "      <td>-0.261450</td>\n",
              "      <td>-0.176286</td>\n",
              "      <td>0.103216</td>\n",
              "      <td>-0.030594</td>\n",
              "    </tr>\n",
              "    <tr>\n",
              "      <th>SibSp</th>\n",
              "      <td>0.059922</td>\n",
              "      <td>-0.133145</td>\n",
              "      <td>-0.261450</td>\n",
              "      <td>1.000000</td>\n",
              "      <td>0.432511</td>\n",
              "      <td>0.145360</td>\n",
              "      <td>0.069666</td>\n",
              "    </tr>\n",
              "    <tr>\n",
              "      <th>Parch</th>\n",
              "      <td>-0.007698</td>\n",
              "      <td>-0.217985</td>\n",
              "      <td>-0.176286</td>\n",
              "      <td>0.432511</td>\n",
              "      <td>1.000000</td>\n",
              "      <td>0.212098</td>\n",
              "      <td>0.087541</td>\n",
              "    </tr>\n",
              "    <tr>\n",
              "      <th>Fare</th>\n",
              "      <td>-0.559876</td>\n",
              "      <td>-0.175967</td>\n",
              "      <td>0.103216</td>\n",
              "      <td>0.145360</td>\n",
              "      <td>0.212098</td>\n",
              "      <td>1.000000</td>\n",
              "      <td>-0.201501</td>\n",
              "    </tr>\n",
              "    <tr>\n",
              "      <th>Embarked</th>\n",
              "      <td>0.136976</td>\n",
              "      <td>0.093364</td>\n",
              "      <td>-0.030594</td>\n",
              "      <td>0.069666</td>\n",
              "      <td>0.087541</td>\n",
              "      <td>-0.201501</td>\n",
              "      <td>1.000000</td>\n",
              "    </tr>\n",
              "  </tbody>\n",
              "</table>\n",
              "</div>"
            ],
            "text/plain": [
              "            Pclass       Sex       Age     SibSp     Parch      Fare  Embarked\n",
              "Pclass    1.000000  0.163197 -0.340424  0.059922 -0.007698 -0.559876  0.136976\n",
              "Sex       0.163197  1.000000  0.088906 -0.133145 -0.217985 -0.175967  0.093364\n",
              "Age      -0.340424  0.088906  1.000000 -0.261450 -0.176286  0.103216 -0.030594\n",
              "SibSp     0.059922 -0.133145 -0.261450  1.000000  0.432511  0.145360  0.069666\n",
              "Parch    -0.007698 -0.217985 -0.176286  0.432511  1.000000  0.212098  0.087541\n",
              "Fare     -0.559876 -0.175967  0.103216  0.145360  0.212098  1.000000 -0.201501\n",
              "Embarked  0.136976  0.093364 -0.030594  0.069666  0.087541 -0.201501  1.000000"
            ]
          },
          "metadata": {},
          "execution_count": 170
        }
      ]
    },
    {
      "cell_type": "markdown",
      "source": [
        "Carrying out VIF on train and test set"
      ],
      "metadata": {
        "id": "yy7K1gPxFXAc"
      }
    },
    {
      "cell_type": "code",
      "source": [
        "# A function for calculating the variance inflation factor\n",
        "def VIF(data):\n",
        "    vif=pd.DataFrame()\n",
        "    vif['Features']=data.columns\n",
        "    vif['VIF_scores']=[variance_inflation_factor(data.values,i)for i in range(data.shape[1])]\n",
        "    return vif"
      ],
      "metadata": {
        "id": "QkOrrRIPGk-0"
      },
      "execution_count": 171,
      "outputs": []
    },
    {
      "cell_type": "code",
      "source": [
        "print(\"The VIF for features\\n\" +str(VIF(X_feat))) \n",
        "print(\"=========================================\")\n",
        "print(\"The VIF for test dataset, the real dataset\\n\" +str(VIF(X_real_feat))) \n"
      ],
      "metadata": {
        "colab": {
          "base_uri": "https://localhost:8080/"
        },
        "id": "jLhjZcL6FXzj",
        "outputId": "65be495a-8fe8-4b90-dd19-2962112035f9"
      },
      "execution_count": 172,
      "outputs": [
        {
          "output_type": "stream",
          "name": "stdout",
          "text": [
            "The VIF for features\n",
            "   Features  VIF_scores\n",
            "0    Pclass    5.715409\n",
            "1       Sex    3.050749\n",
            "2       Age    4.575755\n",
            "3     SibSp    1.633298\n",
            "4     Parch    1.624982\n",
            "5      Fare    1.643859\n",
            "6  Embarked    4.546063\n",
            "=========================================\n",
            "The VIF for test dataset, the real dataset\n",
            "   Features  VIF_scores\n",
            "0    Pclass    5.403139\n",
            "1       Sex    2.802648\n",
            "2       Age    4.948194\n",
            "3     SibSp    1.418543\n",
            "4     Parch    1.390887\n",
            "5      Fare    2.034638\n",
            "6  Embarked    3.776862\n"
          ]
        }
      ]
    },
    {
      "cell_type": "markdown",
      "source": [
        "The sets are indpependent of each other, there's no cause for alarm as all of the are below a score of 10"
      ],
      "metadata": {
        "id": "H0NXWD6qGxux"
      }
    },
    {
      "cell_type": "markdown",
      "source": [
        "##Standardizing our dataset"
      ],
      "metadata": {
        "id": "WUlKk2miHKFs"
      }
    },
    {
      "cell_type": "code",
      "source": [
        "# Scaling the datasets to standardize them to reasonable features with the mean and standard deviation\n",
        "sc=StandardScaler()\n",
        "# Scaling my features\n",
        "X=sc.fit_transform(X) \n",
        "# This has been done so that the model can lean about the training features and also scale while in test it will only transform the features to a scalled value\n",
        "X_real_test=sc.transform(X_real_test)"
      ],
      "metadata": {
        "id": "deUFeDufG_TS"
      },
      "execution_count": 173,
      "outputs": []
    },
    {
      "cell_type": "markdown",
      "source": [
        "##Creating a baseline model"
      ],
      "metadata": {
        "id": "CbYrnFP1Hp7x"
      }
    },
    {
      "cell_type": "markdown",
      "source": [
        "###1. Logistic regression"
      ],
      "metadata": {
        "id": "ViEPCF7SH3XZ"
      }
    },
    {
      "cell_type": "code",
      "source": [
        "from sklearn.linear_model import LogisticRegression\n",
        "from sklearn.model_selection import train_test_split\n",
        "\n",
        "# y=data[\"Survived\"]\n",
        "y=Y\n",
        "# X=data.drop(\"Survived\",axis=1)\n",
        "X=X\n",
        "\n",
        "X_train, X_val,y_train, y_val=train_test_split(X, y, test_size=0.2, random_state=42)\n",
        "\n",
        "clf=LogisticRegression(random_state=0, max_iter=1000).fit(X_train, y_train)\n"
      ],
      "metadata": {
        "id": "ff2LL4YHzikt"
      },
      "execution_count": 192,
      "outputs": []
    },
    {
      "cell_type": "markdown",
      "source": [
        "###prediction"
      ],
      "metadata": {
        "id": "uGtxM6lY1pc-"
      }
    },
    {
      "cell_type": "code",
      "source": [
        "predictions=clf.predict(X_val)\n",
        "from sklearn.metrics import accuracy_score\n",
        "accuracy_score(y_val, predictions)"
      ],
      "metadata": {
        "colab": {
          "base_uri": "https://localhost:8080/"
        },
        "id": "wl61_nV51pKK",
        "outputId": "8d0188a5-1d49-4f76-f4be-75d5095dd702"
      },
      "execution_count": 193,
      "outputs": [
        {
          "output_type": "execute_result",
          "data": {
            "text/plain": [
              "0.7622377622377622"
            ]
          },
          "metadata": {},
          "execution_count": 193
        }
      ]
    },
    {
      "cell_type": "code",
      "source": [
        "dfpredics=pd.DataFrame(clf.predict(test),columns=[\"Survived\"])\n",
        "dfpredics['Survived'].value_counts()\n"
      ],
      "metadata": {
        "colab": {
          "base_uri": "https://localhost:8080/"
        },
        "id": "inTuLj1W2QOi",
        "outputId": "f00518bc-9c93-4160-e650-c2452645e062"
      },
      "execution_count": 194,
      "outputs": [
        {
          "output_type": "execute_result",
          "data": {
            "text/plain": [
              "0    329\n",
              "1     89\n",
              "Name: Survived, dtype: int64"
            ]
          },
          "metadata": {},
          "execution_count": 194
        }
      ]
    },
    {
      "cell_type": "markdown",
      "source": [
        "From the baseline model, Logistic regression it gave me 76% with 255 passengers not surviving and 163 passengers surviving."
      ],
      "metadata": {
        "id": "UBvgS-ZxL-is"
      }
    },
    {
      "cell_type": "markdown",
      "source": [
        "###KNN "
      ],
      "metadata": {
        "id": "rZ4fBTpvQS61"
      }
    },
    {
      "cell_type": "code",
      "source": [
        " \n",
        "def model (pred,target,test_size):\n",
        "    # Splitting further into train test so that the model can learn Y using the training set as my test set doesnt have a target variable\n",
        "    X_train,X_test,Y_train,Y_test=train_test_split(pred,target,test_size=test_size,random_state=42)\n",
        "    # Instantiating KNN classifier\n",
        "    knn=KNeighborsClassifier(n_neighbors=5)\n",
        "    # Fitting my training set to the model\n",
        "    knn.fit(X_train,Y_train)\n",
        "    # Predicting from the knn classifier\n",
        "    Y_real_pred=knn.predict(X_test)\n",
        "    #  Evaluating the model\n",
        "    ac=accuracy_score(Y_test,Y_real_pred)\n",
        "    cm=confusion_matrix(Y_test,Y_real_pred)\n",
        "    cr=classification_report(Y_test,Y_real_pred)\n",
        "    print(ac,'\\n',cm,'\\n',cr)"
      ],
      "metadata": {
        "id": "JtWoV-o42oXe"
      },
      "execution_count": 183,
      "outputs": []
    },
    {
      "cell_type": "code",
      "source": [
        "model(X,Y,0.2)"
      ],
      "metadata": {
        "id": "bZC1UKJ_TLzV",
        "colab": {
          "base_uri": "https://localhost:8080/"
        },
        "outputId": "87450fbe-056c-49d3-9782-3fe2d62fff2a"
      },
      "execution_count": 178,
      "outputs": [
        {
          "output_type": "stream",
          "name": "stdout",
          "text": [
            "0.7482517482517482 \n",
            " [[74 19]\n",
            " [17 33]] \n",
            "               precision    recall  f1-score   support\n",
            "\n",
            "           0       0.81      0.80      0.80        93\n",
            "           1       0.63      0.66      0.65        50\n",
            "\n",
            "    accuracy                           0.75       143\n",
            "   macro avg       0.72      0.73      0.73       143\n",
            "weighted avg       0.75      0.75      0.75       143\n",
            "\n"
          ]
        }
      ]
    },
    {
      "cell_type": "markdown",
      "source": [
        "The KNN model is 74 % accurate . This is not such a good predictor as the number of false positives,and false negatives is considerably high (17 and 12 respectively). The ratio of correctly classified prediction is high and our precision is not up to standard. Of all positives only 74 % of the total was correcly labeld as positive. In quest to evaluate the model i will tune my model to obtain the best K and weights to be used as i adjust the proportion of sampling dataset for validation"
      ],
      "metadata": {
        "id": "SjmUwFbgSASv"
      }
    },
    {
      "cell_type": "markdown",
      "source": [
        "###Hyperparameter tunning \n"
      ],
      "metadata": {
        "id": "wfEvqjnZSgyt"
      }
    },
    {
      "cell_type": "markdown",
      "source": [
        "###### Getting my parameters to use"
      ],
      "metadata": {
        "id": "dldiq_B-TFXU"
      }
    },
    {
      "cell_type": "code",
      "source": [
        "!pip install scikit-learn"
      ],
      "metadata": {
        "colab": {
          "base_uri": "https://localhost:8080/"
        },
        "id": "c8gktpYSabrt",
        "outputId": "cdbe2962-e3d1-4467-ce42-ebc6ece871e1"
      },
      "execution_count": 181,
      "outputs": [
        {
          "output_type": "stream",
          "name": "stdout",
          "text": [
            "Requirement already satisfied: scikit-learn in /usr/local/lib/python3.7/dist-packages (1.0.1)\n",
            "Requirement already satisfied: numpy>=1.14.6 in /usr/local/lib/python3.7/dist-packages (from scikit-learn) (1.19.5)\n",
            "Requirement already satisfied: scipy>=1.1.0 in /usr/local/lib/python3.7/dist-packages (from scikit-learn) (1.4.1)\n",
            "Requirement already satisfied: joblib>=0.11 in /usr/local/lib/python3.7/dist-packages (from scikit-learn) (1.1.0)\n",
            "Requirement already satisfied: threadpoolctl>=2.0.0 in /usr/local/lib/python3.7/dist-packages (from scikit-learn) (3.0.0)\n"
          ]
        }
      ]
    },
    {
      "cell_type": "code",
      "source": [
        "# Defining the function for my best model\n",
        "def optimum(pred,target,test_size):\n",
        "    # I will tune the metric and k neighbours to the best estimator to obtain the best model\n",
        "    X_train,X_test,Y_train,Y_test=train_test_split(pred,target,test_size=test_size,random_state=42)\n",
        "    params={\"metric\":['minkowski','eucledian','cosine_similarity'],\n",
        "        \"n_neighbors\": np.arange(1,13),\n",
        "        \"p\":np.arange(1,3),\n",
        "        \"weights\":['uniform','distance']}\n",
        "    #Instantiating my model\n",
        "    knn=KNeighborsClassifier()\n",
        "    # Tuning the model to obtain the best parameters\n",
        "    knn_search=GridSearchCV(estimator=knn,param_grid=params,cv=5,verbose=1)\n",
        "    # Fitting my training set \n",
        "    knn_search.fit(X_train,Y_train)\n",
        "    print(\"My best parameters are\",knn_search.best_params_)\n",
        "    # Obtaining the best estimator to make our prediction\n",
        "    best_knn_model=knn_search.best_estimator_\n",
        "    # Making our prediction using it\n",
        "    Y_best_real_pred=best_knn_model.predict(X_test)\n",
        "    # Evaluating the best model\n",
        "    ac_best=accuracy_score(Y_test,Y_best_real_pred)\n",
        "    cm_best=confusion_matrix(Y_test,Y_best_real_pred)\n",
        "    cr_best=classification_report(Y_test,Y_best_real_pred)\n",
        "    print(ac_best,'\\n',cm_best,'\\n',cr_best)  \n",
        "    "
      ],
      "metadata": {
        "id": "m2TBOTh8bHsC"
      },
      "execution_count": 185,
      "outputs": []
    },
    {
      "cell_type": "markdown",
      "source": [
        "####Optimizing the model"
      ],
      "metadata": {
        "id": "UtXYYc6QbZWd"
      }
    },
    {
      "cell_type": "code",
      "source": [
        "# Using the best parameters to test for improvement in my model accuracy and missclasification ratio.\n",
        "optimum(X,Y,0.2)"
      ],
      "metadata": {
        "colab": {
          "base_uri": "https://localhost:8080/"
        },
        "id": "21Ccm3X7Tm5h",
        "outputId": "d60ca1b3-a19a-4037-d577-c375b8123a48"
      },
      "execution_count": 187,
      "outputs": [
        {
          "output_type": "stream",
          "name": "stdout",
          "text": [
            "Fitting 5 folds for each of 144 candidates, totalling 720 fits\n",
            "My best parameters are {'metric': 'minkowski', 'n_neighbors': 6, 'p': 1, 'weights': 'distance'}\n",
            "0.7552447552447552 \n",
            " [[75 18]\n",
            " [17 33]] \n",
            "               precision    recall  f1-score   support\n",
            "\n",
            "           0       0.82      0.81      0.81        93\n",
            "           1       0.65      0.66      0.65        50\n",
            "\n",
            "    accuracy                           0.76       143\n",
            "   macro avg       0.73      0.73      0.73       143\n",
            "weighted avg       0.76      0.76      0.76       143\n",
            "\n"
          ]
        }
      ]
    },
    {
      "cell_type": "markdown",
      "source": [
        "Our model accuracy improved significantly with a 1 % margin. "
      ],
      "metadata": {
        "id": "KtfLqx0ublTp"
      }
    },
    {
      "cell_type": "markdown",
      "source": [
        "#8.) Challenging the solution"
      ],
      "metadata": {
        "id": "KErmieO3b9o3"
      }
    },
    {
      "cell_type": "markdown",
      "source": [
        "Using different sample split"
      ],
      "metadata": {
        "id": "VZP6yXDJcCTk"
      }
    },
    {
      "cell_type": "code",
      "source": [
        "# # Using a sample size of 70% for training and 30 % for test\n",
        "model(X,Y,0.3)"
      ],
      "metadata": {
        "colab": {
          "base_uri": "https://localhost:8080/"
        },
        "id": "uH8hot5rTD-n",
        "outputId": "3131fe58-e184-4f19-9b12-1dd791f9d7ae"
      },
      "execution_count": 188,
      "outputs": [
        {
          "output_type": "stream",
          "name": "stdout",
          "text": [
            "0.7850467289719626 \n",
            " [[112  20]\n",
            " [ 26  56]] \n",
            "               precision    recall  f1-score   support\n",
            "\n",
            "           0       0.81      0.85      0.83       132\n",
            "           1       0.74      0.68      0.71        82\n",
            "\n",
            "    accuracy                           0.79       214\n",
            "   macro avg       0.77      0.77      0.77       214\n",
            "weighted avg       0.78      0.79      0.78       214\n",
            "\n"
          ]
        }
      ]
    },
    {
      "cell_type": "markdown",
      "source": [
        "The model accuracy increase further to 79% "
      ],
      "metadata": {
        "id": "hLg4CigDcQv8"
      }
    },
    {
      "cell_type": "code",
      "source": [
        "# Using the best parameters to test for improvement in my model accuracy and missclasification ratio using a different sample size.\n",
        "optimum(X,Y,0.3)"
      ],
      "metadata": {
        "colab": {
          "base_uri": "https://localhost:8080/"
        },
        "id": "F_g9Bpo1cZuv",
        "outputId": "2c5c5bad-67d7-4450-8691-63a77f393d19"
      },
      "execution_count": 189,
      "outputs": [
        {
          "output_type": "stream",
          "name": "stdout",
          "text": [
            "Fitting 5 folds for each of 144 candidates, totalling 720 fits\n",
            "My best parameters are {'metric': 'minkowski', 'n_neighbors': 6, 'p': 1, 'weights': 'distance'}\n",
            "0.7710280373831776 \n",
            " [[109  23]\n",
            " [ 26  56]] \n",
            "               precision    recall  f1-score   support\n",
            "\n",
            "           0       0.81      0.83      0.82       132\n",
            "           1       0.71      0.68      0.70        82\n",
            "\n",
            "    accuracy                           0.77       214\n",
            "   macro avg       0.76      0.75      0.76       214\n",
            "weighted avg       0.77      0.77      0.77       214\n",
            "\n"
          ]
        }
      ]
    },
    {
      "cell_type": "code",
      "source": [
        "# # Using a sample size of 60% for training and 40 % for test\n",
        "model(X,Y,0.4)"
      ],
      "metadata": {
        "colab": {
          "base_uri": "https://localhost:8080/"
        },
        "id": "sRAh-40ucmLT",
        "outputId": "8bbb1bce-707a-4a89-ff1c-7836f0231571"
      },
      "execution_count": 190,
      "outputs": [
        {
          "output_type": "stream",
          "name": "stdout",
          "text": [
            "0.7797202797202797 \n",
            " [[149  29]\n",
            " [ 34  74]] \n",
            "               precision    recall  f1-score   support\n",
            "\n",
            "           0       0.81      0.84      0.83       178\n",
            "           1       0.72      0.69      0.70       108\n",
            "\n",
            "    accuracy                           0.78       286\n",
            "   macro avg       0.77      0.76      0.76       286\n",
            "weighted avg       0.78      0.78      0.78       286\n",
            "\n"
          ]
        }
      ]
    },
    {
      "cell_type": "code",
      "source": [
        "# Rechecking the performance of the model using 60% training data and 40 % testing data\n",
        "optimum(X,Y,0.4)"
      ],
      "metadata": {
        "colab": {
          "base_uri": "https://localhost:8080/"
        },
        "id": "kFWvr-6vcrYN",
        "outputId": "ee11984e-f3ce-4e68-9d54-ff7db92dc86b"
      },
      "execution_count": 191,
      "outputs": [
        {
          "output_type": "stream",
          "name": "stdout",
          "text": [
            "Fitting 5 folds for each of 144 candidates, totalling 720 fits\n",
            "My best parameters are {'metric': 'minkowski', 'n_neighbors': 8, 'p': 1, 'weights': 'distance'}\n",
            "0.7762237762237763 \n",
            " [[149  29]\n",
            " [ 35  73]] \n",
            "               precision    recall  f1-score   support\n",
            "\n",
            "           0       0.81      0.84      0.82       178\n",
            "           1       0.72      0.68      0.70       108\n",
            "\n",
            "    accuracy                           0.78       286\n",
            "   macro avg       0.76      0.76      0.76       286\n",
            "weighted avg       0.77      0.78      0.77       286\n",
            "\n"
          ]
        }
      ]
    },
    {
      "cell_type": "markdown",
      "source": [
        "The accuracy of Knn model in this analysis is at 78% "
      ],
      "metadata": {
        "id": "Or3fjdRsc2MM"
      }
    }
  ]
}